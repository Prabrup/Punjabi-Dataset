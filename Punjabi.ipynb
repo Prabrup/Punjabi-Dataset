{
 "cells": [
  {
   "cell_type": "code",
   "execution_count": 127,
   "metadata": {},
   "outputs": [
    {
     "name": "stderr",
     "output_type": "stream",
     "text": [
      "[nltk_data] Downloading package stopwords to\n",
      "[nltk_data]     C:\\Users\\prabr\\AppData\\Roaming\\nltk_data...\n",
      "[nltk_data]   Package stopwords is already up-to-date!\n"
     ]
    },
    {
     "data": {
      "text/html": [
       "<div>\n",
       "<style scoped>\n",
       "    .dataframe tbody tr th:only-of-type {\n",
       "        vertical-align: middle;\n",
       "    }\n",
       "\n",
       "    .dataframe tbody tr th {\n",
       "        vertical-align: top;\n",
       "    }\n",
       "\n",
       "    .dataframe thead th {\n",
       "        text-align: right;\n",
       "    }\n",
       "</style>\n",
       "<table border=\"1\" class=\"dataframe\">\n",
       "  <thead>\n",
       "    <tr style=\"text-align: right;\">\n",
       "      <th></th>\n",
       "      <th>English Most Common Words</th>\n",
       "      <th>English Most Common Words Filtered</th>\n",
       "      <th>Punjabi Translation</th>\n",
       "    </tr>\n",
       "  </thead>\n",
       "  <tbody>\n",
       "    <tr>\n",
       "      <th>0</th>\n",
       "      <td>be</td>\n",
       "      <td>NaN</td>\n",
       "      <td>NaN</td>\n",
       "    </tr>\n",
       "    <tr>\n",
       "      <th>1</th>\n",
       "      <td>and</td>\n",
       "      <td>NaN</td>\n",
       "      <td>NaN</td>\n",
       "    </tr>\n",
       "    <tr>\n",
       "      <th>2</th>\n",
       "      <td>of</td>\n",
       "      <td>NaN</td>\n",
       "      <td>NaN</td>\n",
       "    </tr>\n",
       "    <tr>\n",
       "      <th>3</th>\n",
       "      <td>a</td>\n",
       "      <td>NaN</td>\n",
       "      <td>NaN</td>\n",
       "    </tr>\n",
       "    <tr>\n",
       "      <th>4</th>\n",
       "      <td>in</td>\n",
       "      <td>NaN</td>\n",
       "      <td>NaN</td>\n",
       "    </tr>\n",
       "  </tbody>\n",
       "</table>\n",
       "</div>"
      ],
      "text/plain": [
       "  English Most Common Words English Most Common Words Filtered  \\\n",
       "0                       be                                 NaN   \n",
       "1                      and                                 NaN   \n",
       "2                       of                                 NaN   \n",
       "3                        a                                 NaN   \n",
       "4                       in                                 NaN   \n",
       "\n",
       "   Punjabi Translation  \n",
       "0                  NaN  \n",
       "1                  NaN  \n",
       "2                  NaN  \n",
       "3                  NaN  \n",
       "4                  NaN  "
      ]
     },
     "execution_count": 127,
     "metadata": {},
     "output_type": "execute_result"
    }
   ],
   "source": [
    "from googletrans import Translator\n",
    "import pandas as pd\n",
    "from nltk.corpus import stopwords\n",
    "import nltk\n",
    "\n",
    "nltk.download('stopwords')\n",
    "stop_words = set(stopwords.words('english'))\n",
    "\n",
    "translator = Translator()\n",
    "data = pd.read_excel(r\"PunjabiDatasetForEnglishSpeaker.xlsx\")\n",
    "data.head()"
   ]
  },
  {
   "cell_type": "code",
   "execution_count": 128,
   "metadata": {},
   "outputs": [
    {
     "data": {
      "text/html": [
       "<div>\n",
       "<style scoped>\n",
       "    .dataframe tbody tr th:only-of-type {\n",
       "        vertical-align: middle;\n",
       "    }\n",
       "\n",
       "    .dataframe tbody tr th {\n",
       "        vertical-align: top;\n",
       "    }\n",
       "\n",
       "    .dataframe thead th {\n",
       "        text-align: right;\n",
       "    }\n",
       "</style>\n",
       "<table border=\"1\" class=\"dataframe\">\n",
       "  <thead>\n",
       "    <tr style=\"text-align: right;\">\n",
       "      <th></th>\n",
       "      <th>English Most Common Words</th>\n",
       "      <th>English Most Common Words Filtered</th>\n",
       "      <th>Punjabi Translation</th>\n",
       "    </tr>\n",
       "  </thead>\n",
       "  <tbody>\n",
       "    <tr>\n",
       "      <th>17</th>\n",
       "      <td>say</td>\n",
       "      <td>say</td>\n",
       "      <td>NaN</td>\n",
       "    </tr>\n",
       "    <tr>\n",
       "      <th>27</th>\n",
       "      <td>can’t</td>\n",
       "      <td>can’t</td>\n",
       "      <td>NaN</td>\n",
       "    </tr>\n",
       "    <tr>\n",
       "      <th>28</th>\n",
       "      <td>won’t</td>\n",
       "      <td>won’t</td>\n",
       "      <td>NaN</td>\n",
       "    </tr>\n",
       "    <tr>\n",
       "      <th>34</th>\n",
       "      <td>go</td>\n",
       "      <td>go</td>\n",
       "      <td>NaN</td>\n",
       "    </tr>\n",
       "    <tr>\n",
       "      <th>38</th>\n",
       "      <td>get</td>\n",
       "      <td>get</td>\n",
       "      <td>NaN</td>\n",
       "    </tr>\n",
       "    <tr>\n",
       "      <th>...</th>\n",
       "      <td>...</td>\n",
       "      <td>...</td>\n",
       "      <td>...</td>\n",
       "    </tr>\n",
       "    <tr>\n",
       "      <th>995</th>\n",
       "      <td>property</td>\n",
       "      <td>property</td>\n",
       "      <td>NaN</td>\n",
       "    </tr>\n",
       "    <tr>\n",
       "      <th>996</th>\n",
       "      <td>instead</td>\n",
       "      <td>instead</td>\n",
       "      <td>NaN</td>\n",
       "    </tr>\n",
       "    <tr>\n",
       "      <th>997</th>\n",
       "      <td>improve</td>\n",
       "      <td>improve</td>\n",
       "      <td>NaN</td>\n",
       "    </tr>\n",
       "    <tr>\n",
       "      <th>998</th>\n",
       "      <td>stuff</td>\n",
       "      <td>stuff</td>\n",
       "      <td>NaN</td>\n",
       "    </tr>\n",
       "    <tr>\n",
       "      <th>999</th>\n",
       "      <td>claim</td>\n",
       "      <td>claim</td>\n",
       "      <td>NaN</td>\n",
       "    </tr>\n",
       "  </tbody>\n",
       "</table>\n",
       "<p>869 rows × 3 columns</p>\n",
       "</div>"
      ],
      "text/plain": [
       "    English Most Common Words English Most Common Words Filtered  \\\n",
       "17                       say                                 say   \n",
       "27                     can’t                               can’t   \n",
       "28                     won’t                               won’t   \n",
       "34                        go                                  go   \n",
       "38                       get                                 get   \n",
       "..                        ...                                ...   \n",
       "995                 property                            property   \n",
       "996                  instead                             instead   \n",
       "997                  improve                             improve   \n",
       "998                    stuff                               stuff   \n",
       "999                    claim                               claim   \n",
       "\n",
       "     Punjabi Translation  \n",
       "17                   NaN  \n",
       "27                   NaN  \n",
       "28                   NaN  \n",
       "34                   NaN  \n",
       "38                   NaN  \n",
       "..                   ...  \n",
       "995                  NaN  \n",
       "996                  NaN  \n",
       "997                  NaN  \n",
       "998                  NaN  \n",
       "999                  NaN  \n",
       "\n",
       "[869 rows x 3 columns]"
      ]
     },
     "execution_count": 128,
     "metadata": {},
     "output_type": "execute_result"
    }
   ],
   "source": [
    "import numpy as np\n",
    "\n",
    "#text = translator.translate('One',dest=\"en\",src=\"pa\")\n",
    "df_cleaned = pd.DataFrame()\n",
    "data[\"English Most Common Words Filtered\"] = data['English Most Common Words'].apply(lambda x: ' '.join([word for word in x.split() if word.lower() not in stop_words]))\n",
    "data[\"English Most Common Words Filtered\"].replace(\"\",np.nan,inplace=True)\n",
    "\n",
    "df_cleaned = data.dropna(subset=['English Most Common Words Filtered'])\n",
    "df_cleaned[[\"English Most Common Words\",\"English Most Common Words Filtered\",\"Punjabi Translation\"]]\n"
   ]
  },
  {
   "cell_type": "code",
   "execution_count": 133,
   "metadata": {},
   "outputs": [
    {
     "data": {
      "text/plain": [
       "'Sata srī akāla'"
      ]
     },
     "execution_count": 133,
     "metadata": {},
     "output_type": "execute_result"
    }
   ],
   "source": [
    "word_array=df_cleaned[\"English Most Common Words Filtered\"].to_numpy()\n",
    "translator.translate(\"Hello\",src=\"en\",dest=\"pa\").pronunciation"
   ]
  },
  {
   "cell_type": "code",
   "execution_count": 140,
   "metadata": {},
   "outputs": [],
   "source": [
    "Punjabi = []\n",
    "\n",
    "for i in range(len(word_array)):\n",
    "    Punjabi.append(translator.translate(word_array[i],src=\"en\",dest=\"pa\"))\n"
   ]
  },
  {
   "cell_type": "code",
   "execution_count": 144,
   "metadata": {},
   "outputs": [],
   "source": [
    "text = []\n",
    "pronunciation = []\n",
    "for i in range(len(word_array)):\n",
    "    text.append(Punjabi[i].text)\n",
    "    pronunciation.append(Punjabi[i].pronunciation)\n",
    "\n",
    "\n"
   ]
  },
  {
   "cell_type": "code",
   "execution_count": 147,
   "metadata": {},
   "outputs": [],
   "source": [
    "data[\"English Most Common Words Filtered\"] = pd.DataFrame(word_array,columns=[\"English Most Common Words Filtered\"])\n",
    "data[\"Punjabi Translation\"]= pd.DataFrame(text,columns=[\"Punjabi Translation\"])\n",
    "data[\"Pronunciation\"]= pd.DataFrame(pronunciation,columns=[\"Pronunciation\"])\n",
    "data = data[[\"English Most Common Words Filtered\",\"Punjabi Translation\",\"Pronunciation\"]]\n",
    "data.to_excel('Punjabi.xlsx', sheet_name='Sheet1', index=False)"
   ]
  }
 ],
 "metadata": {
  "kernelspec": {
   "display_name": "Python 3.9.4 64-bit",
   "language": "python",
   "name": "python3"
  },
  "language_info": {
   "codemirror_mode": {
    "name": "ipython",
    "version": 3
   },
   "file_extension": ".py",
   "mimetype": "text/x-python",
   "name": "python",
   "nbconvert_exporter": "python",
   "pygments_lexer": "ipython3",
   "version": "3.9.4"
  },
  "orig_nbformat": 4,
  "vscode": {
   "interpreter": {
    "hash": "9c66f630a2f46c0cb007e6ea7fde515788c82d52a92a5ce46db908886d69d0f1"
   }
  }
 },
 "nbformat": 4,
 "nbformat_minor": 2
}
